{
  "nbformat": 4,
  "nbformat_minor": 0,
  "metadata": {
    "colab": {
      "name": "Projeto Mineração de Dados Matheus Matos",
      "provenance": [],
      "authorship_tag": "ABX9TyM48hhiO/CghKvh5qIbxP1z",
      "include_colab_link": true
    },
    "kernelspec": {
      "name": "python3",
      "display_name": "Python 3"
    },
    "language_info": {
      "name": "python"
    }
  },
  "cells": [
    {
      "cell_type": "markdown",
      "metadata": {
        "id": "view-in-github",
        "colab_type": "text"
      },
      "source": [
        "<a href=\"https://colab.research.google.com/github/mmatos93/ProjetoMineracaodeDados/blob/main/Projeto_Minera%C3%A7%C3%A3o_de_Dados_Matheus_Matos.ipynb\" target=\"_parent\"><img src=\"https://colab.research.google.com/assets/colab-badge.svg\" alt=\"Open In Colab\"/></a>"
      ]
    },
    {
      "cell_type": "markdown",
      "source": [
        "Importando Bibliotecas"
      ],
      "metadata": {
        "id": "EjoJTE3lZlN5"
      }
    },
    {
      "cell_type": "code",
      "execution_count": null,
      "metadata": {
        "id": "OLXtm8SmZbTV"
      },
      "outputs": [],
      "source": [
        ""
      ]
    }
  ]
}